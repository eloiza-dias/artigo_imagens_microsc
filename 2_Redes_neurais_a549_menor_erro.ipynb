{
  "nbformat": 4,
  "nbformat_minor": 0,
  "metadata": {
    "orig_nbformat": 2,
    "deepnote": {
      "is_reactive": false
    },
    "deepnote_notebook_id": "584901cd-d49a-4b58-a71a-e5a8d1bde069",
    "deepnote_execution_queue": [],
    "colab": {
      "name": "2_Redes_neurais_a549.ipynb",
      "provenance": [],
      "include_colab_link": true
    },
    "language_info": {
      "name": "python"
    },
    "kernelspec": {
      "name": "python3",
      "display_name": "Python 3"
    },
    "accelerator": "GPU"
  },
  "cells": [
    {
      "cell_type": "markdown",
      "metadata": {
        "id": "view-in-github",
        "colab_type": "text"
      },
      "source": [
        "<a href=\"https://colab.research.google.com/github/eloiza-dias/artigo_imagens_microsc/blob/main/2_Redes_neurais_a549_menor_erro.ipynb\" target=\"_parent\"><img src=\"https://colab.research.google.com/assets/colab-badge.svg\" alt=\"Open In Colab\"/></a>"
      ]
    },
    {
      "cell_type": "markdown",
      "metadata": {
        "tags": [],
        "is_collapsed": false,
        "cell_id": "00000-288de0bc-8cc2-4998-872c-01f58e6fa085",
        "deepnote_cell_type": "text-cell-h1",
        "id": "i60H4h3U4tI1"
      },
      "source": [
        "# Linhagem A549"
      ]
    },
    {
      "cell_type": "code",
      "metadata": {
        "colab": {
          "base_uri": "https://localhost:8080/"
        },
        "id": "-AM8VC3e48CW",
        "outputId": "d7727788-ac73-488f-d720-1aad8f4b49ff"
      },
      "source": [
        "from google.colab import drive\n",
        "drive.mount('/content/drive')"
      ],
      "execution_count": null,
      "outputs": [
        {
          "output_type": "stream",
          "name": "stdout",
          "text": [
            "Mounted at /content/drive\n"
          ]
        }
      ]
    },
    {
      "cell_type": "markdown",
      "metadata": {
        "tags": [],
        "is_collapsed": false,
        "cell_id": "00000-9bdebeb7-f4c3-4b52-9360-68ef655b9779",
        "deepnote_cell_type": "text-cell-h1",
        "id": "eWnodvYd4tJA"
      },
      "source": [
        "# Importações estruturação dos dados"
      ]
    },
    {
      "cell_type": "code",
      "metadata": {
        "tags": [],
        "deepnote_to_be_reexecuted": false,
        "source_hash": "64fc40d5",
        "execution_start": 1633461500805,
        "execution_millis": 748,
        "cell_id": "00001-972e581c-6be2-452a-9163-ba15e69acd0d",
        "deepnote_cell_type": "code",
        "id": "fsIk6lJD4tJD"
      },
      "source": [
        "#organização dos arquivos\n",
        "import os\n",
        "#salvar/carregar arquivos em diferentes formatos\n",
        "import joblib\n",
        "#organizando os arquivos de forma aleatória\n",
        "import random\n",
        "#gerar gráfico\n",
        "import matplotlib\n",
        "#estruturação dos dados\n",
        "import numpy as np\n",
        "#gerar gráfico\n",
        "import seaborn as sns\n",
        "#gerar gráfico\n",
        "import matplotlib.pyplot as plt\n",
        "#gerar imagem\n",
        "import matplotlib.image as mpimg\n",
        "# Math\n",
        "from math import ceil\n"
      ],
      "execution_count": null,
      "outputs": []
    },
    {
      "cell_type": "markdown",
      "metadata": {
        "tags": [],
        "is_collapsed": false,
        "cell_id": "00002-9d58b1f9-b49b-45eb-a495-16f3ad253dcc",
        "deepnote_cell_type": "text-cell-h1",
        "id": "s8MqP3WQ4tJI"
      },
      "source": [
        "# Importação do modelo de CNN"
      ]
    },
    {
      "cell_type": "code",
      "metadata": {
        "colab": {
          "base_uri": "https://localhost:8080/"
        },
        "id": "6BUl2OMG5b-Q",
        "outputId": "05fcae8a-9cf3-45de-a7af-7a040e08ece7"
      },
      "source": [
        "pip install util-gfsilveira"
      ],
      "execution_count": null,
      "outputs": [
        {
          "output_type": "stream",
          "name": "stdout",
          "text": [
            "Collecting util-gfsilveira\n",
            "  Downloading util_gfsilveira-0.1-py3-none-any.whl (3.1 kB)\n",
            "Installing collected packages: util-gfsilveira\n",
            "Successfully installed util-gfsilveira-0.1\n"
          ]
        }
      ]
    },
    {
      "cell_type": "code",
      "metadata": {
        "tags": [],
        "deepnote_to_be_reexecuted": false,
        "source_hash": "654178fe",
        "execution_start": 1633461502575,
        "execution_millis": 1990,
        "cell_id": "00003-87f289b7-d2cd-4f4c-9db8-bdb01a8452d9",
        "deepnote_cell_type": "code",
        "id": "SdA4eoj94tJK"
      },
      "source": [
        "#modelo de revisão redes neurais - cnn\n",
        "from keras.models import Sequential\n",
        "from keras.utils.np_utils import to_categorical\n",
        "#from keras.utils import to_categorical\n",
        "from util import meus_uteis, timeProcess, mask_corr_graphic, printLis\n",
        "from sklearn.metrics import confusion_matrix, accuracy_score, classification_report\n",
        "from keras.layers import Dense, Conv2D, MaxPooling2D, Dropout, Flatten"
      ],
      "execution_count": null,
      "outputs": []
    },
    {
      "cell_type": "markdown",
      "metadata": {
        "tags": [],
        "is_collapsed": false,
        "cell_id": "00004-9cbd326e-031b-41f6-9acc-a1093d34c92f",
        "deepnote_cell_type": "text-cell-p",
        "id": "pgnUvf8G4tJM"
      },
      "source": [
        "Os documentos de diferentes arquivos serão armazenados nesse diretório"
      ]
    },
    {
      "cell_type": "code",
      "metadata": {
        "tags": [],
        "deepnote_to_be_reexecuted": false,
        "source_hash": "38a38df5",
        "execution_start": 1633461509648,
        "execution_millis": 17,
        "cell_id": "00005-12ddf809-8cd5-457c-8838-0469b9db7e9e",
        "deepnote_cell_type": "code",
        "colab": {
          "base_uri": "https://localhost:8080/"
        },
        "id": "aDOFmVHI4tJO",
        "outputId": "ac9b733f-a825-4416-9343-7e66af6515a6"
      },
      "source": [
        "diretorio = '/content/drive/MyDrive/1_Informações_scripts' #alimentando a variável com os arquivos da pasta datasets\n",
        "lista_dados = os.listdir(diretorio) #listando os arquivos dessa pasta\n",
        "printLis(lista_dados) #printando as diferentes listas"
      ],
      "execution_count": null,
      "outputs": [
        {
          "output_type": "stream",
          "name": "stdout",
          "text": [
            "-------------\n",
            "-=< Lista >=-\n",
            "-------------\n",
            "0 -> lista_img_camp_clar_100_resized_regressao_3T3_samehuh72021-10-25.gz\n",
            "1 -> lista_rotulo_camp_clar_100_resized_regressao_3T3_samehuh72021-10-25.gz\n",
            "2 -> lista_img_camp_clar_100_resized_regressao_A549_samehuh72021-10-25.gz\n",
            "3 -> lista_rotulo_camp_clar_100_resized_regressao_A549_samehuh72021-10-25.gz\n",
            "4 -> lista_img_camp_clar_100_resized_regressao_huh7_samehuh72021-10-25.gz\n",
            "5 -> lista_rotulo_camp_clar_100_resized_regressao_huh7_samehuh72021-10-25.gz\n",
            "6 -> model_A549_samehuh7_img2021-10-26.h5\n",
            "7 -> model_huh7_samehuh7_img2021-10-26.h5\n",
            "8 -> model__3T3_samehuh7_img2021-10-26.h5\n",
            "9 -> model_A549_samehuh7_img_40_602021-10-27.h5\n",
            "10 -> model_huh7_samehuh7_img_40_602021-10-27.h5\n",
            "11 -> model__3T3_samehuh7_img_40_602021-10-27.h5\n",
            "12 -> lista_img_camp_clar_100_resized_regressao_A5492021-11-9.gz\n",
            "13 -> lista_rotulo_camp_clar_100_resized_regressao_A5492021-11-9.gz\n",
            "14 -> lista_img_camp_clar_75_resized_regressao_A5492021-11-9.gz\n",
            "15 -> lista_rotulo_camp_clar_75_resized_regressao_A5492021-11-9.gz\n",
            "16 -> lista_img_camp_clar_50_resized_regressao_A5492021-11-9.gz\n",
            "17 -> lista_rotulo_camp_clar_50_resized_regressao_A5492021-11-9.gz\n",
            "18 -> lista_img_camp_clar_25_resized_regressao_A5492021-11-9.gz\n",
            "19 -> lista_rotulo_camp_clar_25_resized_regressao_A5492021-11-9.gz\n",
            "20 -> lista_img_camp_clar_100_resized_regressao_huh72021-11-9.gz\n",
            "21 -> lista_rotulo_camp_clar_100_resized_regressao_huh72021-11-9.gz\n",
            "22 -> lista_img_camp_clar_75_resized_regressao_HUH72021-11-9.gz\n",
            "23 -> lista_rotulo_camp_clar_75_resized_regressao_HUH72021-11-9.gz\n",
            "24 -> lista_img_camp_clar_50_resized_regressao_HUH72021-11-9.gz\n",
            "25 -> lista_rotulo_camp_clar_50_resized_regressao_HUH72021-11-9.gz\n",
            "26 -> lista_rotulo_camp_clar_25_resized_regressao_HUH72021-11-9.gz\n",
            "27 -> lista_img_camp_clar_25_resized_regressao_HUH72021-11-9.gz\n",
            "28 -> lista_img_camp_clar_100_resized_regressao_3T32021-11-9.gz\n",
            "29 -> lista_rotulo_camp_clar_100_resized_regressao_3T32021-11-9.gz\n",
            "30 -> lista_img_camp_clar_75_resized_regressao_3T3_2021-11-9.gz\n",
            "31 -> lista_rotulo_camp_clar_75_resized_regressao_3T3_2021-11-9.gz\n",
            "32 -> lista_img_camp_clar_50_resized_regressao_3T3_2021-11-9.gz\n",
            "33 -> lista_rotulo_camp_clar_50_resized_regressao_3T3_2021-11-9.gz\n",
            "34 -> lista_img_camp_clar_25_resized_regressao_3T3_2021-11-9.gz\n",
            "35 -> lista_rotulo_camp_clar_25_resized_regressao_3T3_2021-11-9.gz\n",
            "36 -> model_A549_100_75_50_25_2021-11-11.h5\n",
            "37 -> model_HUH7_100_75_50_25_2021-11-11.h5\n",
            "38 -> model_3T3_100_75_50_25_2021-11-11.h5\n",
            "39 -> images_de_x_caracteristicas_a549.gz\n",
            "40 -> images_de_y_caracteristicas_a549.gz\n",
            "41 -> images_de_x_caracteristicas_Huh7.gz\n",
            "42 -> rotulos_de_y_caracteristicas_Huh7.gz\n",
            "43 -> images_de_x_caracteristicas_3T3.gz\n",
            "44 -> rotulos_de_y_caracteristicas_3T3.gz\n",
            "45 -> 1_images_de_X_train_a549_pior_modelo.gz\n",
            "46 -> 1_images_de_y_train_a549_pior_modelo.gz\n",
            "47 -> 2_images_de_X_test_a549_pior_modelo.gz\n",
            "48 -> 2_images_de_y_test_a549_pior_modelo.gz\n",
            "49 -> model__A549_regressao_maior_erro2022-1-26.h5\n"
          ]
        }
      ]
    },
    {
      "cell_type": "markdown",
      "metadata": {
        "id": "ORvQdoZ4cg8X"
      },
      "source": [
        "Listas de todas as imagens em cada arquivo"
      ]
    },
    {
      "cell_type": "code",
      "metadata": {
        "colab": {
          "base_uri": "https://localhost:8080/"
        },
        "id": "7XhHnLmvYgHc",
        "outputId": "9bfc6429-3f97-4d95-bbba-26897b99e2e6"
      },
      "source": [
        "#lstando arquivos com as imagens 100%, 75%, 50%, 25%\n",
        "for k, v in enumerate(lista_dados): #percorra na lista_dados e retorne a chave e valor\n",
        "    if k in [12,14,16,18]:          #Se a chave (k) for 12,14,16,17, print a chave e o valor  \n",
        "        print(f'{k} -> {v}')"
      ],
      "execution_count": null,
      "outputs": [
        {
          "output_type": "stream",
          "name": "stdout",
          "text": [
            "12 -> lista_img_camp_clar_100_resized_regressao_A5492021-11-9.gz\n",
            "14 -> lista_img_camp_clar_75_resized_regressao_A5492021-11-9.gz\n",
            "16 -> lista_img_camp_clar_50_resized_regressao_A5492021-11-9.gz\n",
            "18 -> lista_img_camp_clar_25_resized_regressao_A5492021-11-9.gz\n"
          ]
        }
      ]
    },
    {
      "cell_type": "markdown",
      "metadata": {
        "id": "ztAlHaCPcdJH"
      },
      "source": [
        "## x = características/imagens\n"
      ]
    },
    {
      "cell_type": "code",
      "metadata": {
        "colab": {
          "base_uri": "https://localhost:8080/"
        },
        "id": "LhyKepySY6Fj",
        "outputId": "2007e3a7-3c4d-44f6-e6d7-22fa87d2d264"
      },
      "source": [
        "#somando todas as imagens de diferentes tamanho\n",
        "X_cem = joblib.load(diretorio+ '/' + lista_dados[12]) # carregar o arquivo que esta no diretorio e lista de dados na posição 12\n",
        "\n",
        "# 12 -> 00-lista_img_dapi_crop_75_resized_2021-5-12.gz\n",
        "X_setcin = joblib.load(diretorio+ '/' + lista_dados[14]) # carregar o arquivo que esta no diretorio e lista de dados na posição 14\n",
        "\n",
        "# 10 -> 00-lista_img_dapi_crop_50_resized_2021-5-12.gz\n",
        "X_cinq = joblib.load(diretorio+ '/' + lista_dados[16]) # carregar o arquivo que esta no diretorio e lista de dados na posição 16\n",
        "\n",
        "# 8 -> 00-lista_img_dapi_crop_25_resized_2021-5-12.gz\n",
        "X_vincin = joblib.load(diretorio+ '/' + lista_dados[18]) # carregar o arquivo que esta no diretorio e lista de dados na posição 18\n",
        "\n",
        "x = np.asarray(list(X_cem) + list(X_setcin) + list(X_cinq) + list(X_vincin)) #somando os valores de cada lista\n",
        "\n",
        "x.shape #Retornando a soma das imagens"
      ],
      "execution_count": null,
      "outputs": [
        {
          "output_type": "execute_result",
          "data": {
            "text/plain": [
              "(1136, 200, 200, 3)"
            ]
          },
          "metadata": {},
          "execution_count": 10
        }
      ]
    },
    {
      "cell_type": "code",
      "source": [
        "#joblib.dump(x, '/content/drive/MyDrive/1_Informações_scripts//images_de_x_caracteristicas_a549.gz')\n"
      ],
      "metadata": {
        "id": "xrCEeF-Vyz6C"
      },
      "execution_count": null,
      "outputs": []
    },
    {
      "cell_type": "markdown",
      "metadata": {
        "tags": [],
        "is_collapsed": false,
        "cell_id": "00006-0467cef1-28ae-4132-99f4-52e3f6dd56cd",
        "deepnote_cell_type": "text-cell-p",
        "id": "BvUM7jXZ4tJU"
      },
      "source": [
        "Para regressão, foi salvo 284 imagens a partir de 71 imagens originais"
      ]
    },
    {
      "cell_type": "code",
      "metadata": {
        "tags": [],
        "deepnote_to_be_reexecuted": false,
        "source_hash": "eec15ce2",
        "execution_start": 1633461580643,
        "execution_millis": 266,
        "cell_id": "00007-fe91ac12-233a-4a55-ae7d-0db6c6ede293",
        "deepnote_cell_type": "code",
        "id": "FrBqZlgK4tJW"
      },
      "source": [
        "# #lista- soma de 284 imagens\n",
        "# imagem_camp_claro = joblib.load(diretorio+ '/' + lista_dados[2]) #carregando o arquivo\n",
        "# imagem_camp_claro.shape #"
      ],
      "execution_count": null,
      "outputs": []
    },
    {
      "cell_type": "code",
      "metadata": {
        "tags": [],
        "deepnote_to_be_reexecuted": false,
        "source_hash": "3d92fdb4",
        "execution_start": 1633461594864,
        "execution_millis": 8,
        "cell_id": "00021-c1e78082-8e7d-42a8-93d0-3be74afe9ac6",
        "deepnote_cell_type": "code",
        "id": "blwriNHZ4tJb"
      },
      "source": [
        "#lista contendo 100% das imagens\n",
        "\n",
        "# #somando cada lista gerada acima e salvando em um array\n",
        "# x = np.asarray(imagem_camp_claro) #abriando em array as imagens\n",
        "# x.shape #x - características (labels) "
      ],
      "execution_count": null,
      "outputs": []
    },
    {
      "cell_type": "code",
      "metadata": {
        "tags": [],
        "deepnote_to_be_reexecuted": false,
        "source_hash": "46d410a7",
        "execution_start": 1633366087658,
        "execution_millis": 0,
        "cell_id": "00022-ac6a1616-6629-4c4b-8338-f0dd83c07e9d",
        "deepnote_cell_type": "code",
        "id": "Oku8d3Fr4tJc"
      },
      "source": [
        "#joblib.dump(x, 'arquivos_text_modelo_imagens//images_de_x_caracteristicas.gz')"
      ],
      "execution_count": null,
      "outputs": []
    },
    {
      "cell_type": "markdown",
      "metadata": {
        "tags": [],
        "is_collapsed": false,
        "cell_id": "00023-576d3772-7256-4c8b-8f4a-ce2a27447373",
        "deepnote_cell_type": "text-cell-p",
        "id": "xXZLvMJ94tJe"
      },
      "source": [
        "Vamos definir nossos rótulos (y)"
      ]
    },
    {
      "cell_type": "markdown",
      "metadata": {
        "tags": [],
        "is_collapsed": false,
        "cell_id": "00024-2a52cddd-d57a-43ea-b19b-79d121441438",
        "deepnote_cell_type": "text-cell-h2",
        "id": "oBtPa_i44tJf"
      },
      "source": [
        "## y = rótulos"
      ]
    },
    {
      "cell_type": "markdown",
      "metadata": {
        "tags": [],
        "is_collapsed": false,
        "cell_id": "00013-59c042e6-ccc7-4e8a-8ad0-93c47d0dfc93",
        "deepnote_cell_type": "text-cell-p",
        "id": "askOnwAU4tJg"
      },
      "source": [
        "Abrindo os rótulos que foram salvos na preparação das imagens"
      ]
    },
    {
      "cell_type": "code",
      "metadata": {
        "colab": {
          "base_uri": "https://localhost:8080/"
        },
        "id": "-b5OF-msb3fx",
        "outputId": "0be30c93-87bd-44ca-9745-c9179ade34c4"
      },
      "source": [
        "for k, v in enumerate(lista_dados):\n",
        "    if k in [13,15,17,19]:\n",
        "        print(f'{k} -> {v}')"
      ],
      "execution_count": null,
      "outputs": [
        {
          "output_type": "stream",
          "name": "stdout",
          "text": [
            "13 -> lista_rotulo_camp_clar_100_resized_regressao_A5492021-11-9.gz\n",
            "15 -> lista_rotulo_camp_clar_75_resized_regressao_A5492021-11-9.gz\n",
            "17 -> lista_rotulo_camp_clar_50_resized_regressao_A5492021-11-9.gz\n",
            "19 -> lista_rotulo_camp_clar_25_resized_regressao_A5492021-11-9.gz\n"
          ]
        }
      ]
    },
    {
      "cell_type": "code",
      "metadata": {
        "colab": {
          "base_uri": "https://localhost:8080/"
        },
        "id": "xBbPF5QObvoo",
        "outputId": "18b753f8-a395-438f-c7bf-1303747e6763"
      },
      "source": [
        "#somando todos os rótulos de diferentes tamanho\n",
        "y_cem = joblib.load(diretorio+ '/' + lista_dados[13])\n",
        "\n",
        "# 12 -> 00-lista_img_dapi_crop_75_resized_2021-5-12.gz\n",
        "y_setcin = joblib.load(diretorio+ '/' + lista_dados[15])\n",
        "\n",
        "# 10 -> 00-lista_img_dapi_crop_50_resized_2021-5-12.gz\n",
        "y_cinq = joblib.load(diretorio+ '/' + lista_dados[17])\n",
        "\n",
        "# 8 -> 00-lista_img_dapi_crop_25_resized_2021-5-12.gz\n",
        "y_vincin = joblib.load(diretorio+ '/' + lista_dados[19])\n",
        "\n",
        "y = np.asarray(list(y_cem) + list(y_setcin) + list(y_cinq) + list(y_vincin))\n",
        "\n",
        "y.shape"
      ],
      "execution_count": null,
      "outputs": [
        {
          "output_type": "execute_result",
          "data": {
            "text/plain": [
              "(1136,)"
            ]
          },
          "metadata": {},
          "execution_count": 13
        }
      ]
    },
    {
      "cell_type": "code",
      "source": [
        "#joblib.dump(y, '/content/drive/MyDrive/1_Informações_scripts//images_de_y_caracteristicas_a549.gz')\n"
      ],
      "metadata": {
        "id": "Z5J0pI1C3lcN"
      },
      "execution_count": null,
      "outputs": []
    },
    {
      "cell_type": "code",
      "metadata": {
        "tags": [],
        "cell_id": "00013-5ec0ed10-07d6-4cea-83a0-cdaaa4b9309e",
        "deepnote_to_be_reexecuted": false,
        "source_hash": "18408477",
        "execution_start": 1633366091444,
        "execution_millis": 14,
        "deepnote_cell_type": "code",
        "id": "fP-0YnUL4tJh"
      },
      "source": [
        "#lista contendo 100% dos rótulos\n",
        "\n",
        "# y_rotulo = joblib.load(diretorio + '/' + lista_dados[3]) #carregando os rotulos\n",
        "# y = np.asarray(y_rotulo)\n",
        "# y.shape"
      ],
      "execution_count": null,
      "outputs": []
    },
    {
      "cell_type": "code",
      "metadata": {
        "tags": [],
        "cell_id": "00015-fdd9c348-50be-4b1b-9108-d00cf64c4ac1",
        "deepnote_to_be_reexecuted": false,
        "source_hash": "1b7a7280",
        "execution_start": 1633366095103,
        "execution_millis": 13,
        "deepnote_cell_type": "code",
        "id": "fi6ziT954tJj",
        "outputId": "fc6cf646-3ed8-4b28-e753-97391e2165b8"
      },
      "source": [
        "#y.max()\n",
        "#y.min()"
      ],
      "execution_count": null,
      "outputs": [
        {
          "output_type": "execute_result",
          "execution_count": 9,
          "data": {
            "text/plain": "1267"
          },
          "metadata": {}
        }
      ]
    },
    {
      "cell_type": "code",
      "metadata": {
        "tags": [],
        "cell_id": "00015-e899e30c-5063-4ed5-a36e-c96cfd7154c8",
        "deepnote_to_be_reexecuted": false,
        "source_hash": "abcd6da",
        "execution_start": 1633366123142,
        "execution_millis": 14,
        "deepnote_cell_type": "code",
        "id": "DJTn4f4C4tJl"
      },
      "source": [
        "#Train and test split datasets for CNN model\n",
        "#função que separa as imagens em teste e treino\n",
        "from sklearn.model_selection import train_test_split"
      ],
      "execution_count": null,
      "outputs": []
    },
    {
      "cell_type": "markdown",
      "metadata": {
        "tags": [],
        "is_collapsed": false,
        "cell_id": "00016-1914ad8b-dfb9-4d5b-9644-47b675be2c68",
        "deepnote_cell_type": "text-cell-p",
        "id": "DM-YUwIs4tJm"
      },
      "source": [
        "Separação de teste e treino a partir de uma biblioteca."
      ]
    },
    {
      "cell_type": "code",
      "metadata": {
        "tags": [],
        "cell_id": "00015-8ddea1cc-fc2b-4056-aea9-bb22914790fe",
        "deepnote_to_be_reexecuted": false,
        "source_hash": "2984b900",
        "execution_start": 1633366126594,
        "execution_millis": 45,
        "deepnote_cell_type": "code",
        "colab": {
          "base_uri": "https://localhost:8080/"
        },
        "id": "VbvO_0SO4tJn",
        "outputId": "802e390c-3bc3-49a0-e24c-c653e33735e2"
      },
      "source": [
        "X_train, X_test, y_train, y_test = train_test_split(x, y, test_size=0.3, random_state=0)\n",
        "#variáveis recebem o número de imagens para tes e treino\n",
        "print(f'{X_train.shape} \\n{X_test.shape} \\n{y_train.shape} \\n{y_test.shape}')"
      ],
      "execution_count": null,
      "outputs": [
        {
          "output_type": "stream",
          "name": "stdout",
          "text": [
            "(795, 200, 200, 3) \n",
            "(341, 200, 200, 3) \n",
            "(795,) \n",
            "(341,)\n"
          ]
        }
      ]
    },
    {
      "cell_type": "code",
      "source": [
        "data = timeProcess()[1]"
      ],
      "metadata": {
        "id": "z49o0tgWXKh8"
      },
      "execution_count": null,
      "outputs": []
    },
    {
      "cell_type": "code",
      "source": [
        "joblib.dump(X_train, '/content/drive/MyDrive/1_Informações_scripts//1_images_de_X_train_a549_melhor_modelo'+data+'.gz')\n"
      ],
      "metadata": {
        "colab": {
          "base_uri": "https://localhost:8080/"
        },
        "id": "ZMvqx66UWJgz",
        "outputId": "3bcb230c-6c88-43fd-b462-a2314c8a6829"
      },
      "execution_count": null,
      "outputs": [
        {
          "output_type": "execute_result",
          "data": {
            "text/plain": [
              "['/content/drive/MyDrive/1_Informações_scripts//1_images_de_X_train_a549_melhor_modelo2022-1-26.gz']"
            ]
          },
          "metadata": {},
          "execution_count": 19
        }
      ]
    },
    {
      "cell_type": "code",
      "source": [
        "joblib.dump(y_train, '/content/drive/MyDrive/1_Informações_scripts//1_images_de_y_train_a549_melhor_modelo'+data+'.gz')\n"
      ],
      "metadata": {
        "colab": {
          "base_uri": "https://localhost:8080/"
        },
        "id": "Fv3eVwIUWJTt",
        "outputId": "c367c5fa-0c61-42f1-9369-e5fa4bbc4ae7"
      },
      "execution_count": null,
      "outputs": [
        {
          "output_type": "execute_result",
          "data": {
            "text/plain": [
              "['/content/drive/MyDrive/1_Informações_scripts//1_images_de_y_train_a549_melhor_modelo2022-1-26.gz']"
            ]
          },
          "metadata": {},
          "execution_count": 20
        }
      ]
    },
    {
      "cell_type": "code",
      "source": [
        "joblib.dump(X_test, '/content/drive/MyDrive/1_Informações_scripts//2_images_de_X_test_a549_melhor_modelo'+data+'.gz')\n"
      ],
      "metadata": {
        "colab": {
          "base_uri": "https://localhost:8080/"
        },
        "id": "sLLxRtYQWJF2",
        "outputId": "b41609b9-bb34-48ad-a584-f0ecc28a6ce6"
      },
      "execution_count": null,
      "outputs": [
        {
          "output_type": "execute_result",
          "data": {
            "text/plain": [
              "['/content/drive/MyDrive/1_Informações_scripts//2_images_de_X_test_a549_melhor_modelo2022-1-26.gz']"
            ]
          },
          "metadata": {},
          "execution_count": 21
        }
      ]
    },
    {
      "cell_type": "code",
      "source": [
        "joblib.dump(y_test, '/content/drive/MyDrive/1_Informações_scripts//2_images_de_y_test_a549_melhor_modelo'+data+'.gz')\n"
      ],
      "metadata": {
        "colab": {
          "base_uri": "https://localhost:8080/"
        },
        "id": "ScEl33x6WI59",
        "outputId": "4f0177ef-edd8-414e-e9df-35d9b7baa6a2"
      },
      "execution_count": null,
      "outputs": [
        {
          "output_type": "execute_result",
          "data": {
            "text/plain": [
              "['/content/drive/MyDrive/1_Informações_scripts//2_images_de_y_test_a549_melhor_modelo2022-1-26.gz']"
            ]
          },
          "metadata": {},
          "execution_count": 22
        }
      ]
    },
    {
      "cell_type": "markdown",
      "source": [
        "salvar esses dados joblib"
      ],
      "metadata": {
        "id": "6uc51jwjVzAw"
      }
    },
    {
      "cell_type": "markdown",
      "metadata": {
        "tags": [],
        "is_collapsed": false,
        "cell_id": "00028-b7da895f-49eb-43aa-affa-0ab9581095b8",
        "deepnote_cell_type": "text-cell-p",
        "id": "NVbR11bZ4tJp"
      },
      "source": [
        "Para treinar o modelo, geralmente é selecionada 30% das imagens para o treino e 70% para teste. Para isso, as imagens são guardadas em uma variável de teste (somente 30%) e o restante vai para o treino."
      ]
    },
    {
      "cell_type": "markdown",
      "metadata": {
        "tags": [],
        "is_collapsed": false,
        "cell_id": "00020-643aca93-ac54-4b42-a96b-0d9cb3766c07",
        "deepnote_cell_type": "text-cell-h3",
        "id": "IOsYujrz4tJq"
      },
      "source": [
        "### Determinação do modelo"
      ]
    },
    {
      "cell_type": "code",
      "metadata": {
        "tags": [],
        "cell_id": "00021-7cc62f7e-3524-4624-ad1c-28768879074d",
        "deepnote_to_be_reexecuted": false,
        "source_hash": "fcfd5f57",
        "execution_start": 1633366142373,
        "execution_millis": 124,
        "deepnote_cell_type": "code",
        "colab": {
          "base_uri": "https://localhost:8080/"
        },
        "id": "s81L-_zW4tJr",
        "outputId": "97d8480b-e8ab-4d42-c765-5986dab364b8"
      },
      "source": [
        "modelo = Sequential()\n",
        "modelo.add(Conv2D(32, kernel_size=3, activation='relu', input_shape=X_train[0].shape))\n",
        "#função de ativação relu é muito utilizado para problemas de regressão\n",
        "modelo.add(MaxPooling2D(pool_size=(2, 2), strides=(2, 2), padding='valid'))\n",
        "modelo.add(Conv2D(64, kernel_size=3, activation='relu'))\n",
        "modelo.add(MaxPooling2D(pool_size=(2, 2), strides=(2, 2), padding='valid'))\n",
        "modelo.add(Conv2D(128, kernel_size=3, activation='relu'))\n",
        "modelo.add(MaxPooling2D(pool_size=(2, 2), strides=(2, 2), padding='valid'))\n",
        "modelo.add(Conv2D(256, kernel_size=3, activation='relu'))\n",
        "modelo.add(MaxPooling2D(pool_size=(2, 2), strides=(2, 2), padding='valid'))\n",
        "modelo.add(Flatten())\n",
        "modelo.add(Dropout(0.9))\n",
        "modelo.add(Dense(1, activation='linear'))\n",
        "#apenas uma saída e de forma linear\n",
        "modelo.compile(optimizer='adam', loss='mse', metrics=['mean_absolute_error'])\n",
        "print(modelo.summary())"
      ],
      "execution_count": null,
      "outputs": [
        {
          "output_type": "stream",
          "name": "stdout",
          "text": [
            "Model: \"sequential_1\"\n",
            "_________________________________________________________________\n",
            " Layer (type)                Output Shape              Param #   \n",
            "=================================================================\n",
            " conv2d_4 (Conv2D)           (None, 198, 198, 32)      896       \n",
            "                                                                 \n",
            " max_pooling2d_4 (MaxPooling  (None, 99, 99, 32)       0         \n",
            " 2D)                                                             \n",
            "                                                                 \n",
            " conv2d_5 (Conv2D)           (None, 97, 97, 64)        18496     \n",
            "                                                                 \n",
            " max_pooling2d_5 (MaxPooling  (None, 48, 48, 64)       0         \n",
            " 2D)                                                             \n",
            "                                                                 \n",
            " conv2d_6 (Conv2D)           (None, 46, 46, 128)       73856     \n",
            "                                                                 \n",
            " max_pooling2d_6 (MaxPooling  (None, 23, 23, 128)      0         \n",
            " 2D)                                                             \n",
            "                                                                 \n",
            " conv2d_7 (Conv2D)           (None, 21, 21, 256)       295168    \n",
            "                                                                 \n",
            " max_pooling2d_7 (MaxPooling  (None, 10, 10, 256)      0         \n",
            " 2D)                                                             \n",
            "                                                                 \n",
            " flatten_1 (Flatten)         (None, 25600)             0         \n",
            "                                                                 \n",
            " dropout_1 (Dropout)         (None, 25600)             0         \n",
            "                                                                 \n",
            " dense_1 (Dense)             (None, 1)                 25601     \n",
            "                                                                 \n",
            "=================================================================\n",
            "Total params: 414,017\n",
            "Trainable params: 414,017\n",
            "Non-trainable params: 0\n",
            "_________________________________________________________________\n",
            "None\n"
          ]
        }
      ]
    },
    {
      "cell_type": "markdown",
      "metadata": {
        "tags": [],
        "is_collapsed": false,
        "cell_id": "00037-2bf0c5ef-7de8-431e-9901-50121ec2aa24",
        "deepnote_cell_type": "text-cell-p",
        "id": "i3t3WXc94tJu"
      },
      "source": [
        "Após correr o modelo de Redes Neurais, vamos treina-lo em algumas rodadas e verificar a acurácia."
      ]
    },
    {
      "cell_type": "markdown",
      "metadata": {
        "tags": [],
        "is_collapsed": false,
        "cell_id": "00038-03075256-1368-40a8-a9e1-89e1b1348e9c",
        "deepnote_cell_type": "text-cell-p",
        "id": "oYWRpW4x4tJv"
      },
      "source": [
        "Guardando&nbsp;em&nbsp;uma&nbsp;variável&nbsp;o&nbsp;treinamento&nbsp;do&nbsp;modelo&nbsp;-&nbsp;informando&nbsp;as&nbsp;imagens&nbsp;com&nbsp;as&nbsp;caracteristicas (X_treino) e junto a elas os rótulos, validando com os valores de teste em 10 rodadas"
      ]
    },
    {
      "cell_type": "code",
      "metadata": {
        "tags": [],
        "deepnote_to_be_reexecuted": false,
        "source_hash": "b6e72463",
        "execution_start": 1633366155490,
        "execution_millis": 1414850,
        "cell_id": "00039-c9f36df9-7a64-4024-a903-e04aa3cdba53",
        "deepnote_cell_type": "code",
        "colab": {
          "base_uri": "https://localhost:8080/"
        },
        "id": "Yyl6OAC04tJv",
        "outputId": "1f529a0c-cf18-4ae0-cac7-cbeadc71b317"
      },
      "source": [
        "#rodadas de treinamento\n",
        "history = modelo.fit(\n",
        "                        X_train,\n",
        "                        y_train,\n",
        "                        validation_data=(X_test, y_test),\n",
        "                        epochs=50,\n",
        "                        batch_size=12\n",
        "                    )"
      ],
      "execution_count": null,
      "outputs": [
        {
          "output_type": "stream",
          "name": "stdout",
          "text": [
            "Epoch 1/50\n",
            "67/67 [==============================] - 15s 72ms/step - loss: 132749.4062 - mean_absolute_error: 297.1473 - val_loss: 99308.0234 - val_mean_absolute_error: 253.6237\n",
            "Epoch 2/50\n",
            "67/67 [==============================] - 4s 58ms/step - loss: 96278.4844 - mean_absolute_error: 246.4011 - val_loss: 67043.4297 - val_mean_absolute_error: 216.6298\n",
            "Epoch 3/50\n",
            "67/67 [==============================] - 4s 58ms/step - loss: 63962.5703 - mean_absolute_error: 201.6589 - val_loss: 50581.4180 - val_mean_absolute_error: 184.3221\n",
            "Epoch 4/50\n",
            "67/67 [==============================] - 4s 58ms/step - loss: 61943.0742 - mean_absolute_error: 196.4853 - val_loss: 40773.1133 - val_mean_absolute_error: 135.8127\n",
            "Epoch 5/50\n",
            "67/67 [==============================] - 4s 58ms/step - loss: 49920.6953 - mean_absolute_error: 169.5449 - val_loss: 81490.1094 - val_mean_absolute_error: 223.4763\n",
            "Epoch 6/50\n",
            "67/67 [==============================] - 4s 58ms/step - loss: 45911.5273 - mean_absolute_error: 162.7252 - val_loss: 30940.9121 - val_mean_absolute_error: 138.0776\n",
            "Epoch 7/50\n",
            "67/67 [==============================] - 4s 59ms/step - loss: 42349.1172 - mean_absolute_error: 156.1272 - val_loss: 28774.4219 - val_mean_absolute_error: 125.2433\n",
            "Epoch 8/50\n",
            "67/67 [==============================] - 4s 60ms/step - loss: 48174.6680 - mean_absolute_error: 168.0030 - val_loss: 21610.2090 - val_mean_absolute_error: 107.1959\n",
            "Epoch 9/50\n",
            "67/67 [==============================] - 4s 58ms/step - loss: 41067.7266 - mean_absolute_error: 150.4762 - val_loss: 119683.6016 - val_mean_absolute_error: 283.4112\n",
            "Epoch 10/50\n",
            "67/67 [==============================] - 4s 58ms/step - loss: 49740.9062 - mean_absolute_error: 168.3183 - val_loss: 64004.3633 - val_mean_absolute_error: 196.2618\n",
            "Epoch 11/50\n",
            "67/67 [==============================] - 4s 60ms/step - loss: 35516.7734 - mean_absolute_error: 142.4823 - val_loss: 37415.7070 - val_mean_absolute_error: 137.0383\n",
            "Epoch 12/50\n",
            "67/67 [==============================] - 4s 58ms/step - loss: 33263.8516 - mean_absolute_error: 136.5039 - val_loss: 49734.9453 - val_mean_absolute_error: 170.0553\n",
            "Epoch 13/50\n",
            "67/67 [==============================] - 4s 58ms/step - loss: 35279.4297 - mean_absolute_error: 140.5614 - val_loss: 17791.2148 - val_mean_absolute_error: 95.7323\n",
            "Epoch 14/50\n",
            "67/67 [==============================] - 4s 58ms/step - loss: 31452.2363 - mean_absolute_error: 129.2639 - val_loss: 20285.7910 - val_mean_absolute_error: 109.1915\n",
            "Epoch 15/50\n",
            "67/67 [==============================] - 4s 57ms/step - loss: 33297.9961 - mean_absolute_error: 137.1669 - val_loss: 23279.3223 - val_mean_absolute_error: 115.1713\n",
            "Epoch 16/50\n",
            "67/67 [==============================] - 4s 59ms/step - loss: 36348.8438 - mean_absolute_error: 144.1023 - val_loss: 20168.6914 - val_mean_absolute_error: 104.3705\n",
            "Epoch 17/50\n",
            "67/67 [==============================] - 4s 58ms/step - loss: 40447.4648 - mean_absolute_error: 149.0092 - val_loss: 18560.5430 - val_mean_absolute_error: 97.4848\n",
            "Epoch 18/50\n",
            "67/67 [==============================] - 4s 58ms/step - loss: 34595.0703 - mean_absolute_error: 137.9535 - val_loss: 33104.9570 - val_mean_absolute_error: 145.1482\n",
            "Epoch 19/50\n",
            "67/67 [==============================] - 4s 58ms/step - loss: 31540.0762 - mean_absolute_error: 134.7090 - val_loss: 20999.1348 - val_mean_absolute_error: 113.8067\n",
            "Epoch 20/50\n",
            "67/67 [==============================] - 4s 58ms/step - loss: 33283.3477 - mean_absolute_error: 134.7145 - val_loss: 25868.5918 - val_mean_absolute_error: 118.2902\n",
            "Epoch 21/50\n",
            "67/67 [==============================] - 4s 59ms/step - loss: 30248.2383 - mean_absolute_error: 130.2891 - val_loss: 16095.4795 - val_mean_absolute_error: 92.6920\n",
            "Epoch 22/50\n",
            "67/67 [==============================] - 4s 59ms/step - loss: 28192.0762 - mean_absolute_error: 124.7746 - val_loss: 25356.0000 - val_mean_absolute_error: 132.2488\n",
            "Epoch 23/50\n",
            "67/67 [==============================] - 4s 60ms/step - loss: 32653.1016 - mean_absolute_error: 135.1382 - val_loss: 64197.9062 - val_mean_absolute_error: 185.4555\n",
            "Epoch 24/50\n",
            "67/67 [==============================] - 4s 61ms/step - loss: 33314.6406 - mean_absolute_error: 135.9992 - val_loss: 22835.0312 - val_mean_absolute_error: 114.6963\n",
            "Epoch 25/50\n",
            "67/67 [==============================] - 4s 60ms/step - loss: 25388.4375 - mean_absolute_error: 117.8947 - val_loss: 32065.1973 - val_mean_absolute_error: 129.9905\n",
            "Epoch 26/50\n",
            "67/67 [==============================] - 4s 57ms/step - loss: 28260.2090 - mean_absolute_error: 127.4529 - val_loss: 13991.3896 - val_mean_absolute_error: 85.0724\n",
            "Epoch 27/50\n",
            "67/67 [==============================] - 4s 61ms/step - loss: 21528.5098 - mean_absolute_error: 108.0371 - val_loss: 18943.7969 - val_mean_absolute_error: 100.3704\n",
            "Epoch 28/50\n",
            "67/67 [==============================] - 4s 58ms/step - loss: 20935.0684 - mean_absolute_error: 106.0353 - val_loss: 25484.5137 - val_mean_absolute_error: 119.3318\n",
            "Epoch 29/50\n",
            "67/67 [==============================] - 4s 58ms/step - loss: 24977.5117 - mean_absolute_error: 116.9204 - val_loss: 12152.6543 - val_mean_absolute_error: 81.6329\n",
            "Epoch 30/50\n",
            "67/67 [==============================] - 4s 58ms/step - loss: 24709.2559 - mean_absolute_error: 112.1756 - val_loss: 28485.3379 - val_mean_absolute_error: 121.6066\n",
            "Epoch 31/50\n",
            "67/67 [==============================] - 4s 61ms/step - loss: 21280.0977 - mean_absolute_error: 110.6028 - val_loss: 17824.7441 - val_mean_absolute_error: 98.4662\n",
            "Epoch 32/50\n",
            "67/67 [==============================] - 4s 58ms/step - loss: 20753.4141 - mean_absolute_error: 107.7755 - val_loss: 11604.4209 - val_mean_absolute_error: 76.7953\n",
            "Epoch 33/50\n",
            "67/67 [==============================] - 4s 58ms/step - loss: 19383.7363 - mean_absolute_error: 103.7647 - val_loss: 33398.8047 - val_mean_absolute_error: 131.7378\n",
            "Epoch 34/50\n",
            "67/67 [==============================] - 4s 59ms/step - loss: 16369.5557 - mean_absolute_error: 96.0417 - val_loss: 10955.8369 - val_mean_absolute_error: 77.5993\n",
            "Epoch 35/50\n",
            "67/67 [==============================] - 4s 58ms/step - loss: 16164.8135 - mean_absolute_error: 93.9598 - val_loss: 13306.5352 - val_mean_absolute_error: 91.4639\n",
            "Epoch 36/50\n",
            "67/67 [==============================] - 4s 60ms/step - loss: 15209.4717 - mean_absolute_error: 91.8319 - val_loss: 35687.4375 - val_mean_absolute_error: 161.3158\n",
            "Epoch 37/50\n",
            "67/67 [==============================] - 4s 58ms/step - loss: 18276.9180 - mean_absolute_error: 102.0765 - val_loss: 14191.4160 - val_mean_absolute_error: 90.0985\n",
            "Epoch 38/50\n",
            "67/67 [==============================] - 4s 58ms/step - loss: 12578.8877 - mean_absolute_error: 83.3860 - val_loss: 20134.1914 - val_mean_absolute_error: 106.5491\n",
            "Epoch 39/50\n",
            "67/67 [==============================] - 4s 59ms/step - loss: 16096.3105 - mean_absolute_error: 93.7827 - val_loss: 9151.5947 - val_mean_absolute_error: 71.7164\n",
            "Epoch 40/50\n",
            "67/67 [==============================] - 4s 61ms/step - loss: 12568.4922 - mean_absolute_error: 84.1577 - val_loss: 7735.9180 - val_mean_absolute_error: 67.0058\n",
            "Epoch 41/50\n",
            "67/67 [==============================] - 4s 59ms/step - loss: 9036.7393 - mean_absolute_error: 70.5120 - val_loss: 8983.7734 - val_mean_absolute_error: 69.2232\n",
            "Epoch 42/50\n",
            "67/67 [==============================] - 4s 61ms/step - loss: 8550.8770 - mean_absolute_error: 67.5542 - val_loss: 9026.6025 - val_mean_absolute_error: 72.4009\n",
            "Epoch 43/50\n",
            "67/67 [==============================] - 4s 59ms/step - loss: 8157.6416 - mean_absolute_error: 68.8837 - val_loss: 17260.5000 - val_mean_absolute_error: 93.2807\n",
            "Epoch 44/50\n",
            "67/67 [==============================] - 4s 59ms/step - loss: 13846.3672 - mean_absolute_error: 85.1492 - val_loss: 17912.5938 - val_mean_absolute_error: 109.8535\n",
            "Epoch 45/50\n",
            "67/67 [==============================] - 4s 59ms/step - loss: 11055.9863 - mean_absolute_error: 77.6001 - val_loss: 15311.2080 - val_mean_absolute_error: 86.8306\n",
            "Epoch 46/50\n",
            "67/67 [==============================] - 4s 58ms/step - loss: 17292.5078 - mean_absolute_error: 94.3283 - val_loss: 9936.9072 - val_mean_absolute_error: 71.0086\n",
            "Epoch 47/50\n",
            "67/67 [==============================] - 4s 59ms/step - loss: 10845.9551 - mean_absolute_error: 77.1982 - val_loss: 21480.3457 - val_mean_absolute_error: 106.5939\n",
            "Epoch 48/50\n",
            "67/67 [==============================] - 4s 60ms/step - loss: 9703.0859 - mean_absolute_error: 74.7465 - val_loss: 11075.5293 - val_mean_absolute_error: 78.1331\n",
            "Epoch 49/50\n",
            "67/67 [==============================] - 4s 59ms/step - loss: 9081.3213 - mean_absolute_error: 70.1951 - val_loss: 7773.8711 - val_mean_absolute_error: 65.6917\n",
            "Epoch 50/50\n",
            "67/67 [==============================] - 4s 61ms/step - loss: 6846.0332 - mean_absolute_error: 62.5816 - val_loss: 6817.1040 - val_mean_absolute_error: 59.1936\n"
          ]
        }
      ]
    },
    {
      "cell_type": "code",
      "source": [
        "modelo.save('/content/drive/MyDrive/1_Informações_scripts//model__A549_regressao_menor_erro'+data+'.h5')"
      ],
      "metadata": {
        "id": "WXMNQlYeXZga"
      },
      "execution_count": null,
      "outputs": []
    },
    {
      "cell_type": "markdown",
      "metadata": {
        "tags": [],
        "is_collapsed": false,
        "cell_id": "00040-4b571408-a790-4e76-99df-23a92c28cd25",
        "deepnote_cell_type": "text-cell-h2",
        "id": "BTA3Xw5y4tJw"
      },
      "source": [
        "## Avaliação da Acurácia"
      ]
    },
    {
      "cell_type": "markdown",
      "metadata": {
        "tags": [],
        "is_collapsed": false,
        "cell_id": "00041-34c3ccbe-3463-495e-83f9-3443d7ca0445",
        "deepnote_cell_type": "text-cell-p",
        "id": "ZxD3GgsW4tJx"
      },
      "source": [
        "Existem algumas maneiras de se avaliar a acurácia dos algoritmos, para algoritmo de regressão, as métricas mais comuns são Erro médio absoluto (MSE) não se baseia na média a partir de valores discrepantes. Erro Médio quadrático (MAE) considera os valores discrepantes entre as variáveis, apontando maior erro."
      ]
    },
    {
      "cell_type": "markdown",
      "metadata": {
        "tags": [],
        "is_collapsed": false,
        "cell_id": "00029-2d1013c4-61e6-42f9-ab51-b66729f54b1e",
        "deepnote_cell_type": "text-cell-p",
        "id": "YjVEtHtG4tJy"
      },
      "source": [
        "O algoritmo avalia o valor previsto e subtraí pelo valor conhecido, depois é calculado a média entre cada valor."
      ]
    },
    {
      "cell_type": "code",
      "metadata": {
        "tags": [],
        "deepnote_to_be_reexecuted": false,
        "source_hash": "c5059107",
        "execution_start": 1633367586426,
        "execution_millis": 0,
        "cell_id": "00046-4282754c-259e-493a-91af-ac3d19c2da8a",
        "deepnote_cell_type": "code",
        "id": "Q-oWr-xR4tJz"
      },
      "source": [
        "# #salvando o modelo\n",
        "# data = timeProcess()[1]\n",
        "# modelo.save('arquivos_text_modelo_imagens//model_camp_claro_A549_regressao'+data+'.h5')"
      ],
      "execution_count": null,
      "outputs": []
    },
    {
      "cell_type": "code",
      "metadata": {
        "tags": [],
        "cell_id": "00028-91ae04ee-eb68-410d-9d0c-a503131c11d3",
        "deepnote_to_be_reexecuted": false,
        "source_hash": "b96ca127",
        "execution_start": 1633367587203,
        "execution_millis": 208,
        "deepnote_cell_type": "code",
        "colab": {
          "base_uri": "https://localhost:8080/",
          "height": 295
        },
        "id": "yESKf6yz4tJ0",
        "outputId": "f2e966a7-ada0-4ce7-ae92-b450af08bbd8"
      },
      "source": [
        "#gráfico avaliando a acurácia a partir de treino e teste\n",
        "plt.plot(history.history['mean_absolute_error'])\n",
        "plt.plot(history.history['val_mean_absolute_error'])\n",
        "plt.title('Acurácia do modelo - MAE ')\n",
        "plt.ylabel('acurácia')\n",
        "plt.xlabel('rodadas')\n",
        "plt.legend(['train', 'test'], loc='upper left')\n",
        "plt.show()"
      ],
      "execution_count": null,
      "outputs": [
        {
          "output_type": "display_data",
          "data": {
            "image/png": "[encoded data removed]",
            "text/plain": [
              "<Figure size 432x288 with 1 Axes>"
            ]
          },
          "metadata": {
            "needs_background": "light"
          }
        }
      ]
    },
    {
      "cell_type": "code",
      "metadata": {
        "tags": [],
        "cell_id": "00029-fcafda94-1f62-4b1d-99f9-8e40571aa205",
        "deepnote_to_be_reexecuted": false,
        "source_hash": "96e272ff",
        "execution_start": 1633367597958,
        "execution_millis": 5295,
        "deepnote_cell_type": "code",
        "colab": {
          "base_uri": "https://localhost:8080/",
          "height": 295
        },
        "id": "LiIbTq_l4tJ2",
        "outputId": "f90d7a2f-7021-46d5-ee65-7eacefbcc5ba"
      },
      "source": [
        "#avaliando a previsão do modelo com os rótulos\n",
        "prev = modelo.predict(X_test)\n",
        "plt.title('Previsão dos valores Operetta')\n",
        "plt.ylabel('Rótulos')\n",
        "plt.xlabel('Previsão')\n",
        "\n",
        "plt.plot(prev)\n",
        "plt.plot(y_test)\n",
        "plt.show()"
      ],
      "execution_count": null,
      "outputs": [
        {
          "output_type": "display_data",
          "data": {
            "image/png": "[encoded data removed]",
            "text/plain": [
              "<Figure size 432x288 with 1 Axes>"
            ]
          },
          "metadata": {
            "needs_background": "light"
          }
        }
      ]
    },
    {
      "cell_type": "code",
      "metadata": {
        "tags": [],
        "cell_id": "00033-3b921652-22b5-46af-af23-62828b82b8a7",
        "deepnote_to_be_reexecuted": true,
        "source_hash": "b623e53d",
        "execution_start": 1633026300082,
        "execution_millis": 2,
        "deepnote_cell_type": "code",
        "id": "eoy3EuTK4tJ3"
      },
      "source": [
        ""
      ],
      "execution_count": null,
      "outputs": []
    },
    {
      "cell_type": "code",
      "metadata": {
        "tags": [],
        "cell_id": "00029-d40ab35b-5c84-4bf2-aaee-8420ac763fd8",
        "deepnote_to_be_reexecuted": false,
        "source_hash": "3b8f2163",
        "execution_start": 1633367609115,
        "execution_millis": 0,
        "deepnote_cell_type": "code",
        "id": "rUKnxWUE4tJ4"
      },
      "source": [
        "# Qualit model analisys\n",
        "from sklearn.metrics import r2_score,mean_absolute_error, mean_squared_error, mean_squared_log_error, median_absolute_error"
      ],
      "execution_count": null,
      "outputs": []
    },
    {
      "cell_type": "code",
      "metadata": {
        "tags": [],
        "cell_id": "00047-d1f881d6-14d2-4951-97bc-8bb45c6a2252",
        "deepnote_to_be_reexecuted": false,
        "source_hash": "7d8190e2",
        "execution_start": 1633367613280,
        "execution_millis": 17,
        "deepnote_cell_type": "code",
        "colab": {
          "base_uri": "https://localhost:8080/"
        },
        "id": "WKMvZyHA4tJ5",
        "outputId": "c3d771cd-e1ee-4bf3-dc2a-571a5318afc5"
      },
      "source": [
        "#buscando pelas métricas\n",
        "print(f\"{round(r2_score(y_test, prev) * 100, 2)}% r2_score\") #raíz quadrada\n",
        "print(f\"{round(mean_absolute_error(y_test, prev), 2)} Erro médio absoluto\") \n",
        "print(f\"{round(mean_squared_log_error(y_test, prev), 2)} Erro médio quadrático\") #erro médio quadrático\n",
        "# print(f\"{round(median_absolute_error(y_test, prev), 2)}\")#Erro médio absoluto sem %\n",
        "\n"
      ],
      "execution_count": null,
      "outputs": [
        {
          "output_type": "stream",
          "name": "stdout",
          "text": [
            "89.94% r2_score\n",
            "69.14 Erro médio absoluto\n",
            "0.03 Erro médio quadrático\n"
          ]
        }
      ]
    },
    {
      "cell_type": "code",
      "metadata": {
        "tags": [],
        "cell_id": "00035-9ffbd557-0627-4061-9b97-3b163a330706",
        "deepnote_to_be_reexecuted": false,
        "source_hash": "bec942ae",
        "execution_start": 1633367620410,
        "execution_millis": 12,
        "deepnote_cell_type": "code",
        "colab": {
          "base_uri": "https://localhost:8080/"
        },
        "id": "sOeojcis4tJ6",
        "outputId": "fac8f6d6-61ec-4ceb-c3fb-24dffe22a1ec"
      },
      "source": [
        "mean_absolute_error(y_test, prev)"
      ],
      "execution_count": null,
      "outputs": [
        {
          "output_type": "execute_result",
          "data": {
            "text/plain": [
              "69.13733424748843"
            ]
          },
          "metadata": {},
          "execution_count": 29
        }
      ]
    },
    {
      "cell_type": "code",
      "metadata": {
        "tags": [],
        "cell_id": "00035-bac3899c-a659-4a73-8893-610cebe6993e",
        "deepnote_to_be_reexecuted": false,
        "source_hash": "89dfb76d",
        "execution_start": 1633367651861,
        "execution_millis": 13,
        "deepnote_cell_type": "code",
        "colab": {
          "base_uri": "https://localhost:8080/"
        },
        "id": "VvXzq5La4tJ7",
        "outputId": "d2466504-52a0-4a14-95f0-5ed4d00bd68f"
      },
      "source": [
        "print(f\"{round(mean_absolute_error(y_test, prev), 2)}\") #erro médio absoluto\n"
      ],
      "execution_count": null,
      "outputs": [
        {
          "output_type": "stream",
          "name": "stdout",
          "text": [
            "69.14\n"
          ]
        }
      ]
    },
    {
      "cell_type": "code",
      "metadata": {
        "tags": [],
        "cell_id": "00036-7ae14acb-8833-4e34-b97f-a455be5b70d5",
        "deepnote_to_be_reexecuted": false,
        "source_hash": "874d8777",
        "execution_start": 1633367662832,
        "execution_millis": 8,
        "deepnote_cell_type": "code",
        "colab": {
          "base_uri": "https://localhost:8080/"
        },
        "id": "bKkgy3YC4tJ8",
        "outputId": "478e58db-df76-4759-97b3-c59dcf0c826c"
      },
      "source": [
        "print(f\"{round(mean_squared_log_error(y_test, prev), 2)}\") #erro médio quadrático\n"
      ],
      "execution_count": null,
      "outputs": [
        {
          "output_type": "stream",
          "name": "stdout",
          "text": [
            "0.03\n"
          ]
        }
      ]
    },
    {
      "cell_type": "code",
      "metadata": {
        "tags": [],
        "cell_id": "00039-42f80198-5333-46c7-b1ab-3fa07a2045f2",
        "deepnote_to_be_reexecuted": false,
        "source_hash": "291f318",
        "execution_start": 1633367625462,
        "execution_millis": 55,
        "deepnote_cell_type": "code",
        "id": "0eN7CgKX4tJ9"
      },
      "source": [
        "# #salvando o modelo\n",
        "data = timeProcess()[1]\n",
        "modelo.save('/content/drive/MyDrive/1_Informações_scripts//model_A549_100_75_50_25_'+data+'.h5')"
      ],
      "execution_count": null,
      "outputs": []
    },
    {
      "cell_type": "markdown",
      "metadata": {
        "tags": [],
        "is_collapsed": false,
        "cell_id": "00032-d58dcf8f-a5e8-4ff0-a8b3-5654b05e22d3",
        "deepnote_cell_type": "text-cell-h2",
        "id": "Fn7PTn064tJ9"
      },
      "source": [
        "## Predição Regressão"
      ]
    },
    {
      "cell_type": "code",
      "metadata": {
        "tags": [],
        "cell_id": "00033-af000258-e3fd-4166-855f-86015e9aaea6",
        "deepnote_to_be_reexecuted": false,
        "source_hash": "75d582ff",
        "execution_start": 1633367678567,
        "execution_millis": 0,
        "deepnote_cell_type": "code",
        "id": "jYHDvVpm4tJ-"
      },
      "source": [
        "from PIL import Image\n"
      ],
      "execution_count": null,
      "outputs": []
    },
    {
      "cell_type": "code",
      "metadata": {
        "tags": [],
        "cell_id": "00029-da52b4c3-5d2d-4daf-b620-a5190f47de63",
        "deepnote_to_be_reexecuted": false,
        "source_hash": "a2f3dbe9",
        "execution_start": 1633367679688,
        "execution_millis": 287,
        "deepnote_cell_type": "code",
        "id": "-PPlJxly4tJ_",
        "colab": {
          "base_uri": "https://localhost:8080/",
          "height": 218
        },
        "outputId": "28668c1a-f53b-4ad1-fd01-08f1025d9e0e"
      },
      "source": [
        "#chamando o diretório com as imagens\n",
        "previsao_imagens = \"/content/drive/MyDrive/imagens operetta A549 - Julia\"\n",
        "lista_cell = os.listdir(previsao_imagens)\n",
        "#lista_cell #lista das imagens"
      ],
      "execution_count": null,
      "outputs": [
        {
          "output_type": "error",
          "ename": "NameError",
          "evalue": "ignored",
          "traceback": [
            "\u001b[0;31m---------------------------------------------------------------------------\u001b[0m",
            "\u001b[0;31mNameError\u001b[0m                                 Traceback (most recent call last)",
            "\u001b[0;32m<ipython-input-2-d3c9a77345e4>\u001b[0m in \u001b[0;36m<module>\u001b[0;34m()\u001b[0m\n\u001b[1;32m      1\u001b[0m \u001b[0;31m#chamando o diretório com as imagens\u001b[0m\u001b[0;34m\u001b[0m\u001b[0;34m\u001b[0m\u001b[0;34m\u001b[0m\u001b[0m\n\u001b[1;32m      2\u001b[0m \u001b[0mprevisao_imagens\u001b[0m \u001b[0;34m=\u001b[0m \u001b[0;34m\"/content/drive/MyDrive/imagens operetta A549 - Julia\"\u001b[0m\u001b[0;34m\u001b[0m\u001b[0;34m\u001b[0m\u001b[0m\n\u001b[0;32m----> 3\u001b[0;31m \u001b[0mlista_cell\u001b[0m \u001b[0;34m=\u001b[0m \u001b[0mos\u001b[0m\u001b[0;34m.\u001b[0m\u001b[0mlistdir\u001b[0m\u001b[0;34m(\u001b[0m\u001b[0mprevisao_imagens\u001b[0m\u001b[0;34m)\u001b[0m\u001b[0;34m\u001b[0m\u001b[0;34m\u001b[0m\u001b[0m\n\u001b[0m\u001b[1;32m      4\u001b[0m \u001b[0;31m#lista_cell #lista das imagens\u001b[0m\u001b[0;34m\u001b[0m\u001b[0;34m\u001b[0m\u001b[0;34m\u001b[0m\u001b[0m\n",
            "\u001b[0;31mNameError\u001b[0m: name 'os' is not defined"
          ]
        }
      ]
    },
    {
      "cell_type": "code",
      "metadata": {
        "tags": [],
        "cell_id": "00034-7fbce0df-dbd6-46e6-ad91-7e316fe07472",
        "deepnote_to_be_reexecuted": false,
        "source_hash": "964ba713",
        "execution_start": 1633367681506,
        "execution_millis": 853,
        "deepnote_cell_type": "code",
        "id": "O2af78Fr4tJ_"
      },
      "source": [
        "img_key = 41 #qual a chave a imagem\n",
        "resize_img = (200,200) #tamanho\n",
        "image_test = previsao_imagens + '/' + lista_cell[img_key] #da onde essa imagem está vindo\n",
        "\n",
        "y_classes_base = [n.split('rot')[1] for n in lista_cell] #cortando o nome da image\n",
        "y_classes_base = [int(n.split('_')[0]) for n in y_classes_base]\n",
        "\n",
        "#trabalhando com as dimensões e mudando para numpy\n",
        "img = Image.open(image_test)\n",
        "img = img.resize(resize_img)\n",
        "img = np.asarray(img)[:,:,:3]\n",
        "img_to_prd = np.expand_dims(img, axis=0)\n",
        "\n",
        "\n",
        "#gerando o gráfico\n",
        "pred_img = modelo.predict(img_to_prd)[0]\n",
        "pred_img = round(float(pred_img), 2)\n",
        "med_img = y_classes_base[img_key]\n",
        "plt.figure(figsize=(10,10))\n",
        "plt.imshow(img)\n",
        "plt.title(f\"Target: {med_img}\\nPred: {pred_img}\\nRattio: {round(pred_img/med_img, 2)}\")\n",
        "plt.show()"
      ],
      "execution_count": null,
      "outputs": []
    },
    {
      "cell_type": "code",
      "metadata": {
        "tags": [],
        "cell_id": "00035-48e86639-75dd-495d-93b4-556ef40eae73",
        "deepnote_to_be_reexecuted": false,
        "source_hash": "b623e53d",
        "execution_start": 1633367684200,
        "execution_millis": 0,
        "deepnote_cell_type": "code",
        "id": "dlkLXEFX4tKA"
      },
      "source": [
        ""
      ],
      "execution_count": null,
      "outputs": []
    },
    {
      "cell_type": "code",
      "metadata": {
        "tags": [],
        "cell_id": "00037-9b68d3e5-32b4-4a75-ac98-3416ea2c7886",
        "deepnote_to_be_reexecuted": false,
        "source_hash": "fa0b3ca1",
        "execution_start": 1633367685191,
        "execution_millis": 464,
        "deepnote_cell_type": "code",
        "id": "jNXigcHY4tKB"
      },
      "source": [
        "img_key = 5\n",
        "resize_img = (200,200)\n",
        "image_test = previsao_imagens + '/' + lista_cell[img_key]\n",
        "\n",
        "y_classes_base = [n.split('rot')[1] for n in lista_cell]\n",
        "y_classes_base = [int(n.split('_')[0]) for n in y_classes_base]\n",
        "\n",
        "img = Image.open(image_test)\n",
        "img = img.resize(resize_img)\n",
        "img = np.asarray(img)[:,:,:3]\n",
        "img_to_prd = np.expand_dims(img, axis=0)\n",
        "\n",
        "pred_img = modelo.predict(img_to_prd)[0]\n",
        "pred_img = round(float(pred_img), 2)\n",
        "med_img = y_classes_base[img_key]\n",
        "plt.figure(figsize=(10,10))\n",
        "plt.imshow(img)\n",
        "plt.title(f\"Target: {med_img}\\nPred: {pred_img}\\nRattio: {round(pred_img/med_img, 2)}\")\n",
        "plt.show()"
      ],
      "execution_count": null,
      "outputs": []
    },
    {
      "cell_type": "code",
      "metadata": {
        "tags": [],
        "cell_id": "00038-76fbfb69-2a5b-4529-b330-0f3c43e252c5",
        "deepnote_to_be_reexecuted": false,
        "source_hash": "94d41a92",
        "execution_start": 1633367687929,
        "execution_millis": 518,
        "deepnote_cell_type": "code",
        "id": "dykVxHJK4tKC"
      },
      "source": [
        "img_key = 5\n",
        "resize_img = (200,200)\n",
        "image_test = previsao_imagens + '/' + lista_cell[img_key]\n",
        "\n",
        "y_classes_base = [n.split('rot')[1] for n in lista_cell]\n",
        "y_classes_base = [int(n.split('_')[0]) for n in y_classes_base]\n",
        "\n",
        "img = Image.open(image_test)\n",
        "img = img.resize(resize_img)\n",
        "img = np.asarray(img)[:,:,:3]\n",
        "img_to_prd = np.expand_dims(img, axis=0)\n",
        "\n",
        "pred_img = modelo.predict(img_to_prd)[0]\n",
        "pred_img = round(float(pred_img), 2)\n",
        "med_img = y_classes_base[img_key]\n",
        "plt.figure(figsize=(10,10))\n",
        "plt.imshow(img)\n",
        "plt.title(f\"Target: {med_img}\\nPred: {pred_img}\\nRattio: {round(pred_img/med_img, 2)}\")\n",
        "plt.show()"
      ],
      "execution_count": null,
      "outputs": []
    },
    {
      "cell_type": "code",
      "metadata": {
        "tags": [],
        "cell_id": "00039-69399a36-abd0-44e7-a40c-0ebbffe84bf2",
        "deepnote_to_be_reexecuted": true,
        "source_hash": "b623e53d",
        "execution_start": 1628796034719,
        "execution_millis": 5,
        "deepnote_cell_type": "code",
        "id": "kSknTBJb4tKD"
      },
      "source": [
        ""
      ],
      "execution_count": null,
      "outputs": []
    },
    {
      "cell_type": "markdown",
      "metadata": {
        "tags": [],
        "created_in_deepnote_cell": true,
        "deepnote_cell_type": "markdown",
        "id": "n-6ahOyr4tKE"
      },
      "source": [
        "<a style='text-decoration:none;line-height:16px;display:flex;color:#5B5B62;padding:10px;justify-content:end;' href='https://deepnote.com?utm_source=created-in-deepnote-cell&projectId=c8daaa9d-6377-4e73-9571-1ae0cf7200fc' target=\"_blank\">\n",
        "<img alt='Created in deepnote.com' style='display:inline;max-height:16px;margin:0px;margin-right:7.5px;' src='data:image/svg+xml;base64,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' > </img>\n",
        "Created in <span style='font-weight:600;margin-left:4px;'>Deepnote</span></a>"
      ]
    }
  ]
}